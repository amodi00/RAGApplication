{
 "cells": [
  {
   "cell_type": "markdown",
   "metadata": {},
   "source": [
    "## RAG Application using SAP HANA Cloud and OpenAI\n",
    "Objectvie is to:\n",
    "1. Create a table with a vector column, load the table with data\n",
    "2. Call LLM with prompt and get an answer based on query\n",
    "3. Fun with prompt engineering and the LLM chatbot!"
   ]
  },
  {
   "cell_type": "markdown",
   "metadata": {},
   "source": [
    "Install hanal_ml python library to be able to connect to SAP HANA Cloud instance"
   ]
  },
  {
   "cell_type": "code",
   "execution_count": null,
   "metadata": {},
   "outputs": [],
   "source": [
    "%pip install hana_ml"
   ]
  },
  {
   "cell_type": "markdown",
   "metadata": {},
   "source": [
    "Connect with SAP HANA Cloud Instance and do a small test to print version and current schema. \n",
    "Address can be found from SAP HANA Cloud Central -> All Instances -> Select SAP HANA Cloud Instance name -> Connections tab -> SQL Endpoint\n",
    "Port can be found from SAP HANA Cloud Central -> All Instances -> Select SAP HANA Cloud Instance name -> Connections tab -> Port\n",
    "User is the SAP HANA Cloud user, if newly created then it will be DBADMIN\n",
    "Password is given at the time of database creation\n",
    "\n",
    "Below is the expected output:\n",
    "4.00.000.00.1712673164 (fa/CE2024.2)\n",
    "DBADMIN"
   ]
  },
  {
   "cell_type": "code",
   "execution_count": 48,
   "metadata": {},
   "outputs": [
    {
     "name": "stdout",
     "output_type": "stream",
     "text": [
      "4.00.000.00.1712673164 (fa/CE2024.2)\n",
      "DBADMIN\n"
     ]
    }
   ],
   "source": [
    "from hana_ml import ConnectionContext\n",
    "\n",
    "cc= ConnectionContext(\n",
    "    address='<*** tenant ***>.hana.trial-us10.hanacloud.ondemand.com',\n",
    "    port='443',\n",
    "    user='DBADMIN',\n",
    "    password='*** password ***',\n",
    "    encrypt=True\n",
    "    )\n",
    "print(cc.hana_version())\n",
    "print(cc.get_current_schema())"
   ]
  },
  {
   "cell_type": "markdown",
   "metadata": {},
   "source": [
    "Now create text embeddings for each of the row and update the row with text embeddings, also known as vectors. \n",
    "Below code defines a function that calls OpenAI API and returns back text embeddings or vector representation of the given string "
   ]
  },
  {
   "cell_type": "code",
   "execution_count": 49,
   "metadata": {},
   "outputs": [],
   "source": [
    "import requests # type: ignore\n",
    "import json\n",
    "def get_text_embedding(text):\n",
    "  url = \"https://api.openai.com/v1/embeddings\"\n",
    "  headers = {\n",
    "    \"Content-Type\": \"application/json\",\n",
    "    \"Authorization\": \"Bearer {}\".format(\"*** OpenAI API Key ***\")\n",
    "  }\n",
    "  data = {\n",
    "    \"input\": text,\n",
    "    \"model\": \"text-embedding-3-small\"\n",
    "  }\n",
    "  response = requests.post(url, headers=headers, data=json.dumps(data))\n",
    "  if response.status_code == 200:\n",
    "    return response.json()[\"data\"][0][\"embedding\"]\n",
    "  else:\n",
    "    raise Exception(\"Error:\", response.status_code, response.text)"
   ]
  },
  {
   "cell_type": "markdown",
   "metadata": {},
   "source": [
    "Below code defines a function that performs an UPDATE on each of the row passed as parameter and sets the value for VECTOR_STR as the text embedding returned back from OpenAI"
   ]
  },
  {
   "cell_type": "code",
   "execution_count": 50,
   "metadata": {},
   "outputs": [],
   "source": [
    "def process_row(row):\n",
    "    # Perform operations on each row\n",
    "    # Uncomment below to see how embeddings look like - this will slow down the proecessing since it will print the vectors for each and every row\n",
    "    #print(row['CATEGORY_NAME'],get_text_embedding(row['TITLE']))\n",
    "    cursor1 = cc.connection.cursor()\n",
    "    sql1 = \"\"\"UPDATE PRODUCTS SET VECTOR_STR = '{}' WHERE asin = '{}'\"\"\".format(get_text_embedding(row['TITLE']),row['ASIN'])\n",
    "\n",
    "    cursor1.execute(sql1)"
   ]
  },
  {
   "cell_type": "markdown",
   "metadata": {},
   "source": [
    "The below code connects to SAP HANA Cloud database and updates text embeddings for each of the row in column VECTOR_STR. It creates text embeddings using model text-embedding-3-small from GPT-3 by calling it's API. Note - the original dataset has approx 1.4M records but this example has limited text embeddings only to 5000 records since the process is very slow and even for 5000 records it can take around half an hour to complete."
   ]
  },
  {
   "cell_type": "code",
   "execution_count": null,
   "metadata": {},
   "outputs": [],
   "source": [
    "cursor = cc.connection.cursor()\n",
    "sql = '''SELECT * FROM PRODUCTS LIMIT 5000;'''\n",
    "cursor.execute(sql)\n",
    "hdf = cc.sql(sql)\n",
    "df_context = hdf.head(5000).collect()\n",
    "df_context.apply(process_row, axis=1)\n",
    "#print(df_context)\n",
    "cursor.close()"
   ]
  },
  {
   "cell_type": "markdown",
   "metadata": {},
   "source": [
    "Uncomment below to see how text embedding for \"Gift Supplies\" look like"
   ]
  },
  {
   "cell_type": "code",
   "execution_count": 21,
   "metadata": {},
   "outputs": [],
   "source": [
    "#queryStr = \"Gift Supplies\"\n",
    "#queryEmbedding = get_text_embedding(queryStr)\n",
    "#print(queryEmbedding)"
   ]
  },
  {
   "cell_type": "markdown",
   "metadata": {},
   "source": [
    "Below function does the vector search for PRODUCTS table based on similarity metric passed. The two possible options for metric are COSINE_SIMILARITY and L2DISTANCE. The function returns back the matching titles where k is the number of rows and query is the string to be searched for"
   ]
  },
  {
   "cell_type": "code",
   "execution_count": 51,
   "metadata": {},
   "outputs": [],
   "source": [
    "def run_vector_search(query: str, metric=\"COSINE_SIMILARITY\", k=4):\n",
    "    if metric == 'L2DISTANCE':\n",
    "        sort = 'ASC'\n",
    "    else:\n",
    "        sort = 'DESC'\n",
    "    query_vector = get_text_embedding(query)\n",
    "    sql = '''SELECT TOP {k} \"ASIN\", \"TITLE\" \n",
    "        FROM \"PRODUCTS\"\n",
    "        ORDER BY \"{metric}\"(\"VECTOR\", TO_REAL_VECTOR('{qv}')) {sort}'''.format(k=k, metric=metric, qv=query_vector, sort=sort)\n",
    "    hdf = cc.sql(sql)\n",
    "    df_context = hdf.head(k).collect()\n",
    "    return df_context"
   ]
  },
  {
   "cell_type": "markdown",
   "metadata": {},
   "source": [
    "Below code initiates GPT-4 model for LLM"
   ]
  },
  {
   "cell_type": "code",
   "execution_count": 53,
   "metadata": {},
   "outputs": [],
   "source": [
    "from langchain_openai import ChatOpenAI # type: ignore\n",
    "model = ChatOpenAI(model=\"gpt-4\", api_key=\"*** OpenAI API Key ***\")"
   ]
  },
  {
   "cell_type": "markdown",
   "metadata": {},
   "source": [
    "Below function encapsulates LLM query. Note the various steps of creating prompt template and how parameters are passed"
   ]
  },
  {
   "cell_type": "code",
   "execution_count": 103,
   "metadata": {},
   "outputs": [],
   "source": [
    "def llm_query(query: str):\n",
    "    from langchain_core.output_parsers import StrOutputParser # type: ignore\n",
    "    from langchain_core.prompts import ChatPromptTemplate # type: ignore\n",
    "    \n",
    "    # Toggle and uncomment below prompt templates to execute use cases for with and without role\n",
    "    \n",
    "    # Use Case 1 - without LLM role assignment\n",
    "    #promptTemplate = ChatPromptTemplate.from_template('''Context:{context} Question:{query}''')\n",
    "    \n",
    "    # Use Case 2 - with LLM role assignment as salesman\n",
    "    promptTemplate = ChatPromptTemplate.from_template('''You are a salesman who promotes and sells online products. When pitching for the product, clearly mention the brand names, \n",
    "                                            it's multiple uses, benefits and cost - include a 10% discount if buying today. Use the following pieces of context to answer \n",
    "                                            the question at the end. Context:{context} Question:{query}''')\n",
    "    df_vectorcontext = run_vector_search(query)\n",
    "    context =  ' '.join(df_vectorcontext['TITLE'].astype('string'))\n",
    "    #print(context)\n",
    "    prompt = promptTemplate.format(query=query, context=context)\n",
    "    response = model.invoke(prompt).content\n",
    "    return (response)\n"
   ]
  },
  {
   "cell_type": "markdown",
   "metadata": {},
   "source": [
    "Test different queries with below statement and note the responses"
   ]
  },
  {
   "cell_type": "code",
   "execution_count": 97,
   "metadata": {},
   "outputs": [],
   "source": [
    "import textwrap\n",
    "iWidth = 80\n",
    "def print_responses(query: str):\n",
    "    print(\"Results of query '\" + query + \"' for vector search:\\n\")\n",
    "    df = run_vector_search(query=query)\n",
    "    print(df.head())\n",
    "    print(\"\\nResults of query '\" + query + \"' from LLM:\\n\")\n",
    "    print(llm_query(query=query))"
   ]
  },
  {
   "cell_type": "code",
   "execution_count": 104,
   "metadata": {},
   "outputs": [
    {
     "name": "stdout",
     "output_type": "stream",
     "text": [
      "Results of query 'electronics' for vector search:\n",
      "\n",
      "         ASIN                                              TITLE\n",
      "0  B09V3DH4G9  DC 12V Electronic DC Buzzer 5v Alarm Active Pi...\n",
      "1  B08G518BHN  DC 3-24V Active Piezo Buzzer 85 db with Indust...\n",
      "2  B01MYPZZ19  IQ Toys-AB A+B Test Mind Game Brain Teaser Wir...\n",
      "3  B0C7CNKGTT  cssopenss 6 Pieces Pocket Screwdriver Mini Top...\n",
      "\n",
      "Results of query 'electronics' from LLM:\n",
      "\n",
      "Salesman: Ladies and Gentlemen, I bring you a collection of high-quality, versatile electronic products that will cater to all your needs. First, let's talk about the DC 12V Electronic DC Buzzer. This fantastic device, housed in durable ABS, emits a clear 85dB beep sound, perfect for alarms or alert systems. Wired and ready to connect, it's available in a pack of 26 for just $50. Purchase today, and you'll receive a 10% discount, making it only $45.\n",
      "\n",
      "For those in the industrial sector, the DC 3-24V Active Piezo Buzzer is a must-have. With 85 dB of industrial audio inside and 2-wire leads, it serves as an efficient electric alarmer. You can get a pack of 10 for just $30, and with our special 10% off today, it's only $27!\n",
      "\n",
      "Boost your brainpower with the IQ Toys-AB A+B Test Mind Game. This brain teaser wire magic trick toy IQ puzzle set is an excellent investment in your mental agility. Available in a pack of 16, this metallic set is only $20, but with today's discount, it's a steal at $18.\n",
      "\n",
      "Last but not least, we have the cssopenss Pocket Screwdriver Mini Tops. These magnetic pocket screwdrivers come with a single blade head, perfect for mechanical or electrician work. In a striking green color and available in a pack of 6, these are priced at just $15. But with our exclusive 10% discount today, you can grab them for only $13.50.\n",
      "\n",
      "Invest in these quality products and experience the benefits for yourself. Remember, the 10% discount is valid only for today. So, hurry up and grab these deals while they last!\n"
     ]
    }
   ],
   "source": [
    "#Query 1 - plain keyword search\n",
    "print_responses(query=\"electronics\")"
   ]
  },
  {
   "cell_type": "code",
   "execution_count": 105,
   "metadata": {},
   "outputs": [
    {
     "name": "stdout",
     "output_type": "stream",
     "text": [
      "Results of query 'electronics entertainment devices' for vector search:\n",
      "\n",
      "         ASIN                                              TITLE\n",
      "0  B09V3DH4G9  DC 12V Electronic DC Buzzer 5v Alarm Active Pi...\n",
      "1  B0057PLN9K  New Remote Control VR15-0980-0306-0302 Fit for...\n",
      "2  B091699Z3W  Kasa Smart Plug Ultra Mini 15A, Smart Home Wi-...\n",
      "3  B01BGUX78E  Ceptics 2 USB Israel Travel Adapter 4 in 1 Pow...\n",
      "\n",
      "Results of query 'electronics entertainment devices' from LLM:\n",
      "\n",
      "Salesman: Greetings! I have some exciting products in the electronics and entertainment devices sector that I'm sure you'll find interesting. \n",
      "\n",
      "Firstly, we have the DC 12V Electronic DC Buzzer. This high-quality buzzer comes with a 5v active piezo beep sound, ABS housing, and an 85dB wired connector. Its versatility means it can be used in various applications, such as alarms, timers, or even as a fun DIY electronic project component. Each pack containing 26 pieces costs just $20, and if you purchase it today, you can avail a 10% discount!\n",
      "\n",
      "Next, we have the Remote Control VR15-0980-0306-0302, designed especially for VIZIO LCD LED TVs. This top-notch remote control is not only new but perfectly fits with various VIZIO TV models, making your TV viewing experience more convenient and enjoyable. It's available for only $15, and don't forget the 10% discount if you buy today!\n",
      "\n",
      "Thirdly, we have the amazing Kasa Smart Plug Ultra Mini 15A. This smart home Wi-Fi outlet works with Alexa, Google Home & IFTTT without requiring any hub. It's UL certified and works with 2.4G WiFi only, thus ensuring your home automation is easy and secure. Priced at $10 for a 1-pack, this is a steal, especially with the 10% off today!\n",
      "\n",
      "Lastly, we have the Ceptics 2 USB Israel Travel Adapter 4 in 1 Power Plug (Type H). This universal socket is perfect for your travel needs, allowing you to charge multiple devices simultaneously, no matter where you are. For just $25, and with a 10% discount if you buy today, this is an absolute necessity for every traveler.\n",
      "\n",
      "Don't miss out on these fantastic deals. Secure your products today and enjoy the discounts!\n"
     ]
    }
   ],
   "source": [
    "#Query 2 - phrase search\n",
    "print_responses(query=\"electronics entertainment devices\")"
   ]
  },
  {
   "cell_type": "code",
   "execution_count": 106,
   "metadata": {},
   "outputs": [
    {
     "name": "stdout",
     "output_type": "stream",
     "text": [
      "Results of query 'What are top 10 electronics entertainment devices?' for vector search:\n",
      "\n",
      "         ASIN                                              TITLE\n",
      "0  B08798HG7F  Stylus Pens for Touch Screens, StylusHome 10 P...\n",
      "1  B0BQD2TZSL                  Men's Top Ten Hi Basketball Shoes\n",
      "2  B07C87CX9T  10 Plagues Passover Finger Puppets Vinyl Gift ...\n",
      "3  B07L5RVRR2  T Shirt Boys Creeper Inside Black Short Sleeve...\n",
      "\n",
      "Results of query 'What are top 10 electronics entertainment devices?' from LLM:\n",
      "\n",
      "Salesman: Ladies and Gentlemen, I am here to introduce you to a number of fantastic products that will cater to your electronic and entertainment needs today. \n",
      "\n",
      "Firstly, let me present the StylusHome 10 Pack Mesh Fiber Tip Stylus Pens. These are ideal for touch screen devices, suitable for iPad, iPhone, Samsung tablets, and all precision capacitive universal touch screen devices. They provide precise control for selecting icons, writing, drawing and gaming. You can own this pack of 10 pens today for a discounted price of $27, a full 10% off from its usual price of $30. \n",
      "\n",
      "Next, we have the men's Top Ten Hi Basketball Shoes. These shoes are renowned for their excellent grip, comfort and durability, making them perfect for both casual wear and intense basketball games. They are available today for just $90, a 10% discount from the regular price of $100. \n",
      "\n",
      "Lastly, I'd like to introduce you to our 10 Plagues Passover Finger Puppets Vinyl Gift Box Set. This set is perfect for Passover celebrations, offering hours of fun for kids and adults alike. The set includes 10 puppets each representing one of the Ten Plagues, making it a great tool for teaching and entertainment during the Jewish holiday. This set is available today for $18, a 10% discount from its regular price of $20. \n",
      "\n",
      "And, don't forget the T-Shirt Boys Creeper inside Black Short Sleeve Gamer Top suitable for 9-10 years old kids. This shirt features a cool and trendy gaming design, perfect for your little gamer. This shirt is available for just $9 today, a 10% discount from its usual price of $10. \n",
      "\n",
      "These are my top picks for electronic entertainment devices and more! Grab them today to avail the 10% discount!\n"
     ]
    }
   ],
   "source": [
    "#Query 3 - Popularity search\n",
    "print_responses(query=\"What are top 10 electronics entertainment devices?\")"
   ]
  },
  {
   "cell_type": "code",
   "execution_count": 107,
   "metadata": {},
   "outputs": [
    {
     "name": "stdout",
     "output_type": "stream",
     "text": [
      "Results of query 'Which items do you recommend for my dental needs?' for vector search:\n",
      "\n",
      "         ASIN                                              TITLE\n",
      "0  B07PNPSZ18  Easyinsmile Dental Tofflemire Matrices Bands S...\n",
      "1  B0BX9KQWDK  315 Count Floss Threaders for Braces, Dental F...\n",
      "2  B07NPBY16M  RADIUS Toothbrush Source Floss Brush BPA Free ...\n",
      "3  B00JVF4UZ6  Tenders Pre-Toothbrush, 12 Individually Packag...\n",
      "\n",
      "Results of query 'Which items do you recommend for my dental needs?' from LLM:\n",
      "\n",
      "Salesman: Absolutely, I have some fantastic recommendations for your dental needs that not only contribute to healthy teeth and gums but also make your daily oral hygiene routine more efficient. \n",
      "\n",
      "First, we have the Easyinsmile Dental Tofflemire Matrices Bands. These are made of stainless steel and are excellent orthodontic supplies. With a thickness of 0.04 mm, you get 144 pieces in one pack. They greatly assist in achieving optimal contour and tooth separation during dental procedures. They are a must-have for any individual who wants to maintain their dental braces effectively. \n",
      "\n",
      "Secondly, a pack of 315 Count Floss Threaders is available. This pack comes in green and contains nine packs in total. They are specifically designed for braces, bridges, and implants, making flossing in between and around your dental appliances a breeze. \n",
      "\n",
      "The third product is the RADIUS Toothbrush Source Floss Brush. This brush is BPA Free & ADA Accepted. It's designed to improve gum health & reduce gum issues. The medium-sized, starch-based brush is perfect for daily use, promoting overall dental health. \n",
      "\n",
      "Lastly, we have the Tenders Pre-Toothbrushes. These are ideal for individuals who need to gently clean their teeth or gums. You'll get 12 individually packaged pre-toothbrushes with a yellow trim in a pack. \n",
      "\n",
      "All these products are available online. If you decide to buy these products today, you'll receive a 10% discount on your total. \n",
      "\n",
      "The Easyinsmile Dental Tofflemire Matrices Bands are priced at $30, the 315 Count Floss Threaders at $15, RADIUS Toothbrush Source Floss Brush at $10, and the Tenders Pre-Toothbrushes at $8. With today's discount, you'll be able to get all these for a total of $56.70 instead of the regular price of $63. \n",
      "\n",
      "Remember, investing in your dental health today will save you from potential dental issues tomorrow.\n"
     ]
    }
   ],
   "source": [
    "#Query 4 - Question that needs semantic knowledge\n",
    "print_responses(query=\"Which items do you recommend for my dental needs?\")"
   ]
  }
 ],
 "metadata": {
  "kernelspec": {
   "display_name": "Python 3",
   "language": "python",
   "name": "python3"
  },
  "language_info": {
   "codemirror_mode": {
    "name": "ipython",
    "version": 3
   },
   "file_extension": ".py",
   "mimetype": "text/x-python",
   "name": "python",
   "nbconvert_exporter": "python",
   "pygments_lexer": "ipython3",
   "version": "3.9.6"
  }
 },
 "nbformat": 4,
 "nbformat_minor": 2
}
